{
 "cells": [
  {
   "cell_type": "code",
   "execution_count": 2,
   "id": "81a11888-82bd-453d-b9bc-2840ded3e388",
   "metadata": {},
   "outputs": [
    {
     "name": "stdout",
     "output_type": "stream",
     "text": [
      "Mappappe!\n"
     ]
    }
   ],
   "source": [
    "print (\"Mappappe!\")"
   ]
  },
  {
   "cell_type": "code",
   "execution_count": null,
   "id": "7b62ba07-63e6-446f-b6b3-37f8cbb75a20",
   "metadata": {},
   "outputs": [],
   "source": []
  }
 ],
 "metadata": {
  "kernelspec": {
   "display_name": "Python 3 (ipykernel)",
   "language": "python",
   "name": "python3"
  },
  "language_info": {
   "codemirror_mode": {
    "name": "ipython",
    "version": 3
   },
   "file_extension": ".py",
   "mimetype": "text/x-python",
   "name": "python",
   "nbconvert_exporter": "python",
   "pygments_lexer": "ipython3",
   "version": "3.11.7"
  }
 },
 "nbformat": 4,
 "nbformat_minor": 5
}
